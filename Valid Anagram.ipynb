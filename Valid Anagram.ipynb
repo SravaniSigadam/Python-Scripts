{
 "cells": [
  {
   "cell_type": "code",
   "execution_count": 5,
   "metadata": {},
   "outputs": [],
   "source": [
    "from collections import Counter\n",
    "def validAnagram(s,t):\n",
    "    \n",
    "    d = Counter(s)\n",
    "    for i in t:\n",
    "        if i not in d.keys(): \n",
    "            return False\n",
    "        else:\n",
    "            d.pop(i)\n",
    "    if len(d) == 0:\n",
    "        return True\n",
    "    else:\n",
    "        return False"
   ]
  },
  {
   "cell_type": "code",
   "execution_count": 6,
   "metadata": {},
   "outputs": [
    {
     "data": {
      "text/plain": [
       "False"
      ]
     },
     "execution_count": 6,
     "metadata": {},
     "output_type": "execute_result"
    }
   ],
   "source": [
    "validAnagram(\"mass\",\"sams\")"
   ]
  },
  {
   "cell_type": "code",
   "execution_count": 8,
   "metadata": {},
   "outputs": [],
   "source": [
    "def validAnagrams(s,t):\n",
    "    \n",
    "    s_dict = {}\n",
    "    t_dict = {}\n",
    "    for i in s:\n",
    "        s_dict[i] = s_dict.get(i,0) + 1\n",
    "    for i in t:\n",
    "        t_dict[i] = t_dict.get(i,0) + 1\n",
    "    for i in s_dict: \n",
    "        if s_dict[i] != t_dict.get(i,0):\n",
    "            return False\n",
    "    return False if (len(s) != len(t)) else True"
   ]
  },
  {
   "cell_type": "code",
   "execution_count": 9,
   "metadata": {},
   "outputs": [
    {
     "data": {
      "text/plain": [
       "False"
      ]
     },
     "execution_count": 9,
     "metadata": {},
     "output_type": "execute_result"
    }
   ],
   "source": [
    "s = \"program\"\n",
    "t = \"function\"\n",
    "validAnagrams(s,t)"
   ]
  },
  {
   "cell_type": "code",
   "execution_count": 10,
   "metadata": {},
   "outputs": [],
   "source": [
    "def validAnagram1(s,t):\n",
    "    \n",
    "    if len(s) != len(t):\n",
    "        return False\n",
    "    s_dict = {}\n",
    "    t_dict = {}\n",
    "    for i in s:\n",
    "        s_dict[i] = s_dict.get(i,0) + 1\n",
    "    for i in t:\n",
    "        t_dict[i] = t_dict.get(i,0) + 1\n",
    "    for i in s_dict: \n",
    "        if s_dict[i] != t_dict.get(i,0):\n",
    "            return False\n",
    "    return False if (len(s) != len(t)) else True"
   ]
  },
  {
   "cell_type": "code",
   "execution_count": 11,
   "metadata": {},
   "outputs": [
    {
     "data": {
      "text/plain": [
       "True"
      ]
     },
     "execution_count": 11,
     "metadata": {},
     "output_type": "execute_result"
    }
   ],
   "source": [
    "s = \"silent\"\n",
    "t = \"tensil\"\n",
    "validAnagram1(s,t)"
   ]
  }
 ],
 "metadata": {
  "kernelspec": {
   "display_name": "Python 3",
   "language": "python",
   "name": "python3"
  },
  "language_info": {
   "codemirror_mode": {
    "name": "ipython",
    "version": 3
   },
   "file_extension": ".py",
   "mimetype": "text/x-python",
   "name": "python",
   "nbconvert_exporter": "python",
   "pygments_lexer": "ipython3",
   "version": "3.8.5"
  }
 },
 "nbformat": 4,
 "nbformat_minor": 4
}
