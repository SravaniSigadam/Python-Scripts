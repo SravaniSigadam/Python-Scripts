{
 "cells": [
  {
   "cell_type": "code",
   "execution_count": 47,
   "metadata": {},
   "outputs": [],
   "source": [
    "#Correlation coefficient calculation\n",
    "import math\n",
    "def means(x,y):\n",
    "    xmean = 0\n",
    "    ymean = 0\n",
    "    total = 0\n",
    "    totals = 0\n",
    "    \n",
    "    for num in x:\n",
    "        xmean = xmean +num\n",
    "    xmean  = xmean / len(x)\n",
    "    print(xmean)\n",
    "    \n",
    "    for num in y:\n",
    "        ymean = ymean +num\n",
    "    ymean  = ymean / len(y)\n",
    "    print(ymean)\n",
    "    \n",
    "    i=0\n",
    "    \n",
    "    while i < len(x) and i < len(y):\n",
    "        if len(x) != len(y):\n",
    "            return false\n",
    "        else:\n",
    "            total = total + (x[i]-xmean) * (y[i]-ymean)\n",
    "            totals= totals+ (x[i]-xmean)**2 * (y[i]-ymean)**2\n",
    "            i+=1\n",
    "    print(total)\n",
    "    print(totals)\n",
    "            \n",
    "    return total/(math.sqrt(totals*len(x)))                    "
   ]
  },
  {
   "cell_type": "code",
   "execution_count": 48,
   "metadata": {},
   "outputs": [
    {
     "name": "stdout",
     "output_type": "stream",
     "text": [
      "8.0\n",
      "9.2\n",
      "-116.00000000000001\n",
      "10972.399999999998\n"
     ]
    },
    {
     "data": {
      "text/plain": [
       "-0.4952473624932348"
      ]
     },
     "execution_count": 48,
     "metadata": {},
     "output_type": "execute_result"
    }
   ],
   "source": [
    "means([1,12,4,5,18],[3,5,14,23,1])"
   ]
  },
  {
   "cell_type": "code",
   "execution_count": 30,
   "metadata": {},
   "outputs": [],
   "source": [
    "import math\n",
    "def means(x,y):\n",
    "    total = 0\n",
    "    totals = 0\n",
    "    \n",
    "    xmean  = sum(x)/ len(x)\n",
    "    print(xmean)\n",
    "    \n",
    "    ymean  = sum(y) / len(y)\n",
    "    print(ymean)\n",
    "    \n",
    "    i=0\n",
    "    \n",
    "    while i < len(x) and i < len(y):\n",
    "        if len(x) != len(y):\n",
    "            return false\n",
    "        else:\n",
    "            total+= (x[i]-xmean) * (y[i]-ymean)\n",
    "            totals+= (x[i]-xmean)**2 * (y[i]-ymean)**2\n",
    "            i+=1\n",
    "    print(total)\n",
    "    print(totals)\n",
    "    return total/(math.sqrt(totals*len(x)))  "
   ]
  },
  {
   "cell_type": "code",
   "execution_count": 31,
   "metadata": {},
   "outputs": [
    {
     "name": "stdout",
     "output_type": "stream",
     "text": [
      "8.0\n",
      "9.2\n",
      "-116.00000000000001\n",
      "10972.399999999998\n"
     ]
    },
    {
     "data": {
      "text/plain": [
       "-0.4952473624932348"
      ]
     },
     "execution_count": 31,
     "metadata": {},
     "output_type": "execute_result"
    }
   ],
   "source": [
    "means([1,12,4,5,18],[3,5,14,23,1])"
   ]
  },
  {
   "cell_type": "code",
   "execution_count": 50,
   "metadata": {},
   "outputs": [
    {
     "data": {
      "text/plain": [
       "(-0.45855892155269085, 0.4373059776291496)"
      ]
     },
     "execution_count": 50,
     "metadata": {},
     "output_type": "execute_result"
    }
   ],
   "source": [
    "# Correlation coefficient using scipy\n",
    "import numpy as np\n",
    "import scipy.stats\n",
    "\n",
    "x = np.array([1,12,4,5,18])\n",
    "y = np.array([3,5,14,23,1])\n",
    "\n",
    "scipy.stats.pearsonr(x, y)\n"
   ]
  },
  {
   "cell_type": "code",
   "execution_count": 51,
   "metadata": {},
   "outputs": [
    {
     "name": "stdout",
     "output_type": "stream",
     "text": [
      "[[ 1.         -0.45855892]\n",
      " [-0.45855892  1.        ]]\n"
     ]
    }
   ],
   "source": [
    "# Correlation coefficient using numpy\n",
    "import numpy as np\n",
    "import scipy.stats\n",
    "\n",
    "x = np.array([1,12,4,5,18])\n",
    "y = np.array([3,5,14,23,1])\n",
    "\n",
    "\n",
    "r = np.corrcoef(x, y)\n",
    "print(r)"
   ]
  },
  {
   "cell_type": "code",
   "execution_count": 33,
   "metadata": {},
   "outputs": [
    {
     "data": {
      "text/plain": [
       "-0.45855892155269085"
      ]
     },
     "execution_count": 33,
     "metadata": {},
     "output_type": "execute_result"
    }
   ],
   "source": [
    "# Correlation coefficient using pandas\n",
    "\n",
    "import pandas as pd\n",
    "\n",
    "x = pd.Series([1,12,4,5,18])\n",
    "y = pd.Series([3,5,14,23,1])\n",
    "\n",
    "x.corr(y)"
   ]
  },
  {
   "cell_type": "code",
   "execution_count": 5,
   "metadata": {},
   "outputs": [],
   "source": [
    "# RMSE Calculation\n",
    "def rmse(x,y):\n",
    "    i=0\n",
    "    total=0\n",
    "    while i < len(x) and i < len(y):\n",
    "        total = total + (x[i] - y[i])**2\n",
    "        i+=1\n",
    "    return total/len(x)"
   ]
  },
  {
   "cell_type": "code",
   "execution_count": 7,
   "metadata": {},
   "outputs": [
    {
     "data": {
      "text/plain": [
       "0.5"
      ]
     },
     "execution_count": 7,
     "metadata": {},
     "output_type": "execute_result"
    }
   ],
   "source": [
    "rmse([1,3],[2,3])"
   ]
  }
 ],
 "metadata": {
  "kernelspec": {
   "display_name": "Python 3",
   "language": "python",
   "name": "python3"
  },
  "language_info": {
   "codemirror_mode": {
    "name": "ipython",
    "version": 3
   },
   "file_extension": ".py",
   "mimetype": "text/x-python",
   "name": "python",
   "nbconvert_exporter": "python",
   "pygments_lexer": "ipython3",
   "version": "3.7.4"
  }
 },
 "nbformat": 4,
 "nbformat_minor": 2
}
