{
 "cells": [
  {
   "cell_type": "code",
   "execution_count": 2,
   "metadata": {},
   "outputs": [
    {
     "name": "stdout",
     "output_type": "stream",
     "text": [
      "aba\n",
      "1221\n",
      "abxna\n",
      "The total number of strings are: 3\n"
     ]
    }
   ],
   "source": [
    "#Write a Python program to count the number of strings where the string length is 2 or more and the first \n",
    "#and last character are same from a given list of strings. Go to the editor\n",
    "#Sample List : ['abc', 'xyz', 'aba', '1221'] Expected Result : 2\n",
    "\n",
    "a = ['abc', 'xyz', 'aba', '1221','abxna']\n",
    "count = 0\n",
    "\n",
    "for idx,word in enumerate(a):\n",
    "    if len(a)>2:\n",
    "        if word[0] == word[-1]:\n",
    "            print(word)\n",
    "            count=count+1\n",
    "print('The total number of strings are:',count)"
   ]
  },
  {
   "cell_type": "code",
   "execution_count": null,
   "metadata": {
    "collapsed": true
   },
   "outputs": [],
   "source": []
  }
 ],
 "metadata": {
  "kernelspec": {
   "display_name": "Python 3",
   "language": "python",
   "name": "python3"
  },
  "language_info": {
   "codemirror_mode": {
    "name": "ipython",
    "version": 3
   },
   "file_extension": ".py",
   "mimetype": "text/x-python",
   "name": "python",
   "nbconvert_exporter": "python",
   "pygments_lexer": "ipython3",
   "version": "3.6.1"
  }
 },
 "nbformat": 4,
 "nbformat_minor": 2
}
