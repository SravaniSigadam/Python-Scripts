{
 "cells": [
  {
   "cell_type": "code",
   "execution_count": 1,
   "metadata": {},
   "outputs": [],
   "source": [
    "# Duplicate zeros (in place)\n",
    "\n",
    "def duplicateZeros(nums):\n",
    "    lengthOfList = len(nums)-1\n",
    "    i = 0\n",
    "    while i < lengthOfList:\n",
    "        if nums[i] == 0:\n",
    "            nums.insert(i+1,0)\n",
    "            nums.pop()\n",
    "            i+=1\n",
    "        i+=1\n",
    "    return nums"
   ]
  },
  {
   "cell_type": "code",
   "execution_count": 2,
   "metadata": {},
   "outputs": [
    {
     "data": {
      "text/plain": [
       "[1, 0, 0, 2, 3, 0, 0, 4]"
      ]
     },
     "execution_count": 2,
     "metadata": {},
     "output_type": "execute_result"
    }
   ],
   "source": [
    "duplicateZeros([1,0,2,3,0,4,5,0])"
   ]
  },
  {
   "cell_type": "code",
   "execution_count": 3,
   "metadata": {},
   "outputs": [],
   "source": [
    "# Duplicate zeros \n",
    "\n",
    "# Input [1,0,2,3,0,4,5,0] Output = [1,0,0,2,3,0,0,4]\n",
    "\n",
    "def duplicateZeros(nums):\n",
    "    x = len(nums)\n",
    "    newList = []\n",
    "    for i in nums:\n",
    "        if len(newList) < x:\n",
    "            if i == 0:\n",
    "                newList.append(i)\n",
    "                if len(newList) < x:\n",
    "                    newList.append(0)    \n",
    "            else:\n",
    "                newList.append(i)\n",
    "    return newList"
   ]
  },
  {
   "cell_type": "code",
   "execution_count": 4,
   "metadata": {},
   "outputs": [
    {
     "data": {
      "text/plain": [
       "[1, 0, 0, 2, 3, 0, 0, 4]"
      ]
     },
     "execution_count": 4,
     "metadata": {},
     "output_type": "execute_result"
    }
   ],
   "source": [
    "duplicateZeros([1,0,2,3,0,4,5,0])"
   ]
  }
 ],
 "metadata": {
  "kernelspec": {
   "display_name": "Python 3",
   "language": "python",
   "name": "python3"
  },
  "language_info": {
   "codemirror_mode": {
    "name": "ipython",
    "version": 3
   },
   "file_extension": ".py",
   "mimetype": "text/x-python",
   "name": "python",
   "nbconvert_exporter": "python",
   "pygments_lexer": "ipython3",
   "version": "3.8.5"
  }
 },
 "nbformat": 4,
 "nbformat_minor": 4
}
