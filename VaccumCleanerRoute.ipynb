{
 "cells": [
  {
   "cell_type": "code",
   "execution_count": 4,
   "metadata": {},
   "outputs": [
    {
     "name": "stdout",
     "output_type": "stream",
     "text": [
      "True\n"
     ]
    }
   ],
   "source": [
    "# Vaccum Cleaner problem- Return True when it comes back to original position else return False\n",
    "\n",
    "#\"LR\", return true\n",
    "#\"URURD\", return false\n",
    "#\"RUULLDRD\", return true\n",
    "\n",
    "from collections import Counter\n",
    "a = 'RUULLDRD'\n",
    "\n",
    "b = Counter(a)\n",
    "\n",
    "if (b['R'] == b['L']) & (b['U'] == b['D']):\n",
    "    print('True')\n",
    "else:\n",
    "    print('False')"
   ]
  },
  {
   "cell_type": "code",
   "execution_count": 29,
   "metadata": {},
   "outputs": [
    {
     "name": "stdout",
     "output_type": "stream",
     "text": [
      "False\n"
     ]
    }
   ],
   "source": [
    "a = 'URURD'\n",
    "count = 0\n",
    "for char in a:\n",
    "    if char == 'L' or  char == 'U':\n",
    "        count+=1\n",
    "    else:\n",
    "        count-=1\n",
    "\n",
    "if count == 0:\n",
    "    print('True')\n",
    "else:\n",
    "    print('False')"
   ]
  },
  {
   "cell_type": "code",
   "execution_count": 30,
   "metadata": {},
   "outputs": [],
   "source": [
    "def vaccumCleanerRoute(s):\n",
    "    \n",
    "    count = 0\n",
    "    for char in s:\n",
    "        if char == 'L':\n",
    "            count+=1\n",
    "        elif char == 'U':\n",
    "            count+=1\n",
    "        elif char == 'R':\n",
    "            count-=1\n",
    "        elif char == 'D':\n",
    "            count-=1\n",
    "   \n",
    "    return count==0"
   ]
  },
  {
   "cell_type": "code",
   "execution_count": 31,
   "metadata": {},
   "outputs": [
    {
     "data": {
      "text/plain": [
       "False"
      ]
     },
     "execution_count": 31,
     "metadata": {},
     "output_type": "execute_result"
    }
   ],
   "source": [
    "vaccumCleanerRoute('URURD')"
   ]
  },
  {
   "cell_type": "code",
   "execution_count": 32,
   "metadata": {},
   "outputs": [],
   "source": [
    "def vaccumCleanerRoute(s):\n",
    "    \n",
    "    b = Counter(s)\n",
    "\n",
    "    if (b['R'] == b['L']) & (b['U'] == b['D']):\n",
    "        return True\n",
    "    return False"
   ]
  },
  {
   "cell_type": "code",
   "execution_count": 33,
   "metadata": {},
   "outputs": [
    {
     "data": {
      "text/plain": [
       "False"
      ]
     },
     "execution_count": 33,
     "metadata": {},
     "output_type": "execute_result"
    }
   ],
   "source": [
    "vaccumCleanerRoute('LLLRR')"
   ]
  }
 ],
 "metadata": {
  "kernelspec": {
   "display_name": "Python 3",
   "language": "python",
   "name": "python3"
  },
  "language_info": {
   "codemirror_mode": {
    "name": "ipython",
    "version": 3
   },
   "file_extension": ".py",
   "mimetype": "text/x-python",
   "name": "python",
   "nbconvert_exporter": "python",
   "pygments_lexer": "ipython3",
   "version": "3.8.5"
  }
 },
 "nbformat": 4,
 "nbformat_minor": 4
}
