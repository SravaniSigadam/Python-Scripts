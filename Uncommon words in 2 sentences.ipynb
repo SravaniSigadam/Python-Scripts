{
 "cells": [
  {
   "cell_type": "code",
   "execution_count": 1,
   "metadata": {},
   "outputs": [],
   "source": [
    "#sentence1 = \"the quick\", sentence2 = \"brown fox\", return [\"the\", \"quick\", \"brown\", \"fox\"]\n",
    "\n",
    "#sentence1 = \"the tortoise beat the haire\", sentence2 = \"the tortoise lost to the haire\",\n",
    "#return [\"beat\", \"to\", \"lost\"]\n",
    "\n",
    "def uncommon(s1,s2):\n",
    "    d = {}\n",
    "    newlist = []\n",
    "    for i in (s1.split(' ')):\n",
    "        d[i] = d.get(i,0) + 1\n",
    "    for i in (s2.split(' ')):\n",
    "        d[i] = d.get(i,0) + 1\n",
    "    \n",
    "    for k,v in d.items():\n",
    "        if v==1:\n",
    "            newlist.append(k)\n",
    "    return(newlist)"
   ]
  },
  {
   "cell_type": "code",
   "execution_count": 2,
   "metadata": {},
   "outputs": [
    {
     "data": {
      "text/plain": [
       "['beat', 'lost', 'to']"
      ]
     },
     "execution_count": 2,
     "metadata": {},
     "output_type": "execute_result"
    }
   ],
   "source": [
    "uncommon(\"the tortoise beat the haire\",\"the tortoise lost to the haire\")"
   ]
  }
 ],
 "metadata": {
  "kernelspec": {
   "display_name": "Python 3",
   "language": "python",
   "name": "python3"
  },
  "language_info": {
   "codemirror_mode": {
    "name": "ipython",
    "version": 3
   },
   "file_extension": ".py",
   "mimetype": "text/x-python",
   "name": "python",
   "nbconvert_exporter": "python",
   "pygments_lexer": "ipython3",
   "version": "3.8.5"
  }
 },
 "nbformat": 4,
 "nbformat_minor": 4
}
