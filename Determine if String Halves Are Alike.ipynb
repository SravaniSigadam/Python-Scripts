{
 "cells": [
  {
   "cell_type": "code",
   "execution_count": 1,
   "metadata": {},
   "outputs": [],
   "source": [
    "# 1704. Determine if String Halves Are Alike\n",
    "\n",
    "# bruteforce\n",
    "\n",
    "def halvesAreAlike(s):\n",
    "    vowels = \"aeiouAEIOU\"\n",
    "    counta = countb = 0\n",
    "\n",
    "    for char in s[:len(s)//2]:\n",
    "        if char in vowels:\n",
    "            counta+=1           \n",
    "    for char in s[len(s)//2:]:\n",
    "        if char in vowels:\n",
    "            countb+=1\n",
    "    return counta == countb"
   ]
  },
  {
   "cell_type": "code",
   "execution_count": 2,
   "metadata": {},
   "outputs": [
    {
     "data": {
      "text/plain": [
       "True"
      ]
     },
     "execution_count": 2,
     "metadata": {},
     "output_type": "execute_result"
    }
   ],
   "source": [
    "halvesAreAlike('book')"
   ]
  },
  {
   "cell_type": "code",
   "execution_count": 3,
   "metadata": {},
   "outputs": [],
   "source": [
    "def halvesAreAlike(s):\n",
    "    return sum(1 for char in s[:len(s)//2] if char in 'aeiouAEIOU') == sum(1 for char in s[len(s)//2:] if char in 'aeiouAEIOU')"
   ]
  },
  {
   "cell_type": "code",
   "execution_count": 4,
   "metadata": {},
   "outputs": [
    {
     "data": {
      "text/plain": [
       "False"
      ]
     },
     "execution_count": 4,
     "metadata": {},
     "output_type": "execute_result"
    }
   ],
   "source": [
    "halvesAreAlike(\"textbook\")"
   ]
  }
 ],
 "metadata": {
  "kernelspec": {
   "display_name": "Python 3",
   "language": "python",
   "name": "python3"
  },
  "language_info": {
   "codemirror_mode": {
    "name": "ipython",
    "version": 3
   },
   "file_extension": ".py",
   "mimetype": "text/x-python",
   "name": "python",
   "nbconvert_exporter": "python",
   "pygments_lexer": "ipython3",
   "version": "3.8.5"
  }
 },
 "nbformat": 4,
 "nbformat_minor": 4
}
