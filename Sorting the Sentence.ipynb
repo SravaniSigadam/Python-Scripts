{
 "cells": [
  {
   "cell_type": "code",
   "execution_count": 1,
   "metadata": {},
   "outputs": [],
   "source": [
    "# 1859. Sorting the Sentence\n",
    "# Input: s = \"is2 sentence4 This1 a3\" Output: \"This is a sentence\"\n",
    "\n",
    "\n",
    "def sortSentence(s):\n",
    "    d = {}\n",
    "    for word in s.split():\n",
    "        d[int(word[-1])] = word[:-1]\n",
    "    out = \"\"\n",
    "    for i in range(1,len(d)+1):\n",
    "        out += d[i] + \" \"\n",
    "    return out[:-1]"
   ]
  },
  {
   "cell_type": "code",
   "execution_count": 2,
   "metadata": {},
   "outputs": [
    {
     "data": {
      "text/plain": [
       "'This is a sentence'"
      ]
     },
     "execution_count": 2,
     "metadata": {},
     "output_type": "execute_result"
    }
   ],
   "source": [
    "sortSentence(\"is2 sentence4 This1 a3\")"
   ]
  },
  {
   "cell_type": "code",
   "execution_count": 3,
   "metadata": {},
   "outputs": [],
   "source": [
    "def sortSentence(s):\n",
    "    words = s.split()\n",
    "    t = {}\n",
    "    for word in words:\n",
    "        index = int(word[-1])\n",
    "        t[index] = word[:-1]\n",
    "    i = 1\n",
    "    out = \"\"\n",
    "    while i in t:\n",
    "        out = out + \" \" + t[i]\n",
    "        i += 1\n",
    "    out.strip()\n",
    "    return out[1:]"
   ]
  },
  {
   "cell_type": "code",
   "execution_count": 4,
   "metadata": {},
   "outputs": [
    {
     "data": {
      "text/plain": [
       "'Me Myself and I'"
      ]
     },
     "execution_count": 4,
     "metadata": {},
     "output_type": "execute_result"
    }
   ],
   "source": [
    "sortSentence(\"Myself2 Me1 I4 and3\")"
   ]
  },
  {
   "cell_type": "code",
   "execution_count": 5,
   "metadata": {},
   "outputs": [],
   "source": [
    "def sortSentence(s):\n",
    "    return \" \".join(map(lambda substring: substring[:-1], sorted(s.split(), key=lambda x: x[-1])))"
   ]
  },
  {
   "cell_type": "code",
   "execution_count": 6,
   "metadata": {},
   "outputs": [
    {
     "data": {
      "text/plain": [
       "'This is a sentence'"
      ]
     },
     "execution_count": 6,
     "metadata": {},
     "output_type": "execute_result"
    }
   ],
   "source": [
    "sortSentence(\"is2 sentence4 This1 a3\")"
   ]
  }
 ],
 "metadata": {
  "kernelspec": {
   "display_name": "Python 3",
   "language": "python",
   "name": "python3"
  },
  "language_info": {
   "codemirror_mode": {
    "name": "ipython",
    "version": 3
   },
   "file_extension": ".py",
   "mimetype": "text/x-python",
   "name": "python",
   "nbconvert_exporter": "python",
   "pygments_lexer": "ipython3",
   "version": "3.8.5"
  }
 },
 "nbformat": 4,
 "nbformat_minor": 4
}
