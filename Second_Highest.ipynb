{
 "cells": [
  {
   "cell_type": "code",
   "execution_count": 1,
   "metadata": {},
   "outputs": [
    {
     "name": "stdout",
     "output_type": "stream",
     "text": [
      "Second Largest element 7\n"
     ]
    }
   ],
   "source": [
    "# 2nd highest\n",
    "arr =[1,5,3,2,7,8]\n",
    "arr.sort()\n",
    "length = len(arr)\n",
    "for j in range(length-1, 0, -1):\n",
    "    if arr[j] - arr[j-1] == 0:\n",
    "        pass\n",
    "    else:\n",
    "        print(\"Second Largest element\", arr[j-1])\n",
    "        break"
   ]
  },
  {
   "cell_type": "code",
   "execution_count": 11,
   "metadata": {},
   "outputs": [],
   "source": [
    "# 2nd highest\n",
    "\n",
    "def second(rank):\n",
    "    first = 0\n",
    "    second = 0\n",
    "    for num in rank[1:]:\n",
    "        if num > first:\n",
    "            second = first\n",
    "            first = num\n",
    "        else:\n",
    "            second = max(num, second)\n",
    "    return second"
   ]
  },
  {
   "cell_type": "code",
   "execution_count": 12,
   "metadata": {},
   "outputs": [
    {
     "data": {
      "text/plain": [
       "7"
      ]
     },
     "execution_count": 12,
     "metadata": {},
     "output_type": "execute_result"
    }
   ],
   "source": [
    "second([1,5,3,2,7,8])"
   ]
  },
  {
   "cell_type": "code",
   "execution_count": 4,
   "metadata": {},
   "outputs": [],
   "source": [
    "# 2nd highest\n",
    "\n",
    "def second(rank):\n",
    "    first = 0\n",
    "    second = 0\n",
    "    for num in rank:\n",
    "        first = max(first,num) \n",
    "    \n",
    "    for i in rank:\n",
    "        if i == first:\n",
    "            pass\n",
    "        else:\n",
    "            second = max(second,i)\n",
    "    \n",
    "    return second"
   ]
  },
  {
   "cell_type": "code",
   "execution_count": 5,
   "metadata": {},
   "outputs": [
    {
     "data": {
      "text/plain": [
       "7"
      ]
     },
     "execution_count": 5,
     "metadata": {},
     "output_type": "execute_result"
    }
   ],
   "source": [
    "second([1,5,3,2,7,8])"
   ]
  },
  {
   "cell_type": "code",
   "execution_count": null,
   "metadata": {},
   "outputs": [],
   "source": []
  }
 ],
 "metadata": {
  "kernelspec": {
   "display_name": "Python 3",
   "language": "python",
   "name": "python3"
  },
  "language_info": {
   "codemirror_mode": {
    "name": "ipython",
    "version": 3
   },
   "file_extension": ".py",
   "mimetype": "text/x-python",
   "name": "python",
   "nbconvert_exporter": "python",
   "pygments_lexer": "ipython3",
   "version": "3.7.4"
  }
 },
 "nbformat": 4,
 "nbformat_minor": 2
}
