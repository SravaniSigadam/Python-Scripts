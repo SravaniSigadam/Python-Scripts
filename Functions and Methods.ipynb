{
 "cells": [
  {
   "cell_type": "code",
   "execution_count": 6,
   "metadata": {
    "collapsed": true
   },
   "outputs": [],
   "source": [
    "# To find the volume of sphere\n",
    "\n",
    "def vol(r):\n",
    "    volume = (4*3.14*(r**3)/3)\n",
    "    return volume"
   ]
  },
  {
   "cell_type": "code",
   "execution_count": 8,
   "metadata": {},
   "outputs": [
    {
     "data": {
      "text/plain": [
       "33.49333333333333"
      ]
     },
     "execution_count": 8,
     "metadata": {},
     "output_type": "execute_result"
    }
   ],
   "source": [
    "vol(2)"
   ]
  },
  {
   "cell_type": "code",
   "execution_count": 27,
   "metadata": {
    "collapsed": true
   },
   "outputs": [],
   "source": [
    "# To check if a number is in a given range\n",
    "\n",
    "def check_range(n,low,high):\n",
    "    if n > low and n < high:\n",
    "        print(f'{n} is in the range between {low} and {high}')\n",
    "    else:\n",
    "        print(f'{n} is not in range between {low} and {high}')"
   ]
  },
  {
   "cell_type": "code",
   "execution_count": 28,
   "metadata": {},
   "outputs": [
    {
     "name": "stdout",
     "output_type": "stream",
     "text": [
      "2 is in the range between 1 and 4\n"
     ]
    }
   ],
   "source": [
    "check_range(2,1,4)"
   ]
  },
  {
   "cell_type": "code",
   "execution_count": 29,
   "metadata": {},
   "outputs": [
    {
     "name": "stdout",
     "output_type": "stream",
     "text": [
      "20 is not in range between 56 and 89\n"
     ]
    }
   ],
   "source": [
    "check_range(20,56,89)"
   ]
  },
  {
   "cell_type": "code",
   "execution_count": 31,
   "metadata": {
    "collapsed": true
   },
   "outputs": [],
   "source": [
    "# Check if the number is in range and return boolean\n",
    "\n",
    "def check_range(n,low,high):\n",
    "    if n > low and n < high:\n",
    "        return True\n",
    "    else:\n",
    "        return False"
   ]
  },
  {
   "cell_type": "code",
   "execution_count": 32,
   "metadata": {},
   "outputs": [
    {
     "data": {
      "text/plain": [
       "True"
      ]
     },
     "execution_count": 32,
     "metadata": {},
     "output_type": "execute_result"
    }
   ],
   "source": [
    "check_range(45,32,97)"
   ]
  },
  {
   "cell_type": "code",
   "execution_count": 35,
   "metadata": {
    "collapsed": true
   },
   "outputs": [],
   "source": [
    "# To count the number of upper and lower case letters in a string\n",
    "\n",
    "def str(n):\n",
    "    upper =0\n",
    "    lower=0\n",
    "    for letter in n:\n",
    "        if letter.isupper():\n",
    "            upper+=1\n",
    "        elif letter.islower():\n",
    "            lower+=1\n",
    "        else:\n",
    "            pass\n",
    "    print (\"Origina String is: \", n)\n",
    "    print (\"The number of lower case letters are: \", lower)\n",
    "    print (\"The number of upper case letters are: \", upper)"
   ]
  },
  {
   "cell_type": "code",
   "execution_count": 37,
   "metadata": {},
   "outputs": [
    {
     "name": "stdout",
     "output_type": "stream",
     "text": [
      "Origina String is:  Hey\n",
      "The number of lower case letters are:  2\n",
      "The number of upper case letters are:  1\n"
     ]
    }
   ],
   "source": [
    "str('Hey')"
   ]
  },
  {
   "cell_type": "code",
   "execution_count": 41,
   "metadata": {},
   "outputs": [
    {
     "name": "stdout",
     "output_type": "stream",
     "text": [
      "Origina String is:  Hey Addy, How are you?\n",
      "The number of lower case letters are:  13\n",
      "The number of upper case letters are:  3\n"
     ]
    }
   ],
   "source": [
    "str('Hey Addy, How are you?')"
   ]
  },
  {
   "cell_type": "code",
   "execution_count": 44,
   "metadata": {
    "collapsed": true
   },
   "outputs": [],
   "source": [
    "# To multiply the numbers in a list\n",
    "\n",
    "def nums(arr):\n",
    "    total = 1\n",
    "    for i in arr:\n",
    "        total = i*total\n",
    "        i+=1\n",
    "    print(\"The total is: \", total)"
   ]
  },
  {
   "cell_type": "code",
   "execution_count": 48,
   "metadata": {},
   "outputs": [
    {
     "name": "stdout",
     "output_type": "stream",
     "text": [
      "The total is:  -720\n"
     ]
    }
   ],
   "source": [
    "nums([1,2,3,4,5,-6])"
   ]
  },
  {
   "cell_type": "code",
   "execution_count": 67,
   "metadata": {
    "collapsed": true
   },
   "outputs": [],
   "source": [
    "# To check for a pallindrome\n",
    "\n",
    "def pallin(a):\n",
    "    for i in a:\n",
    "        if a[0] == a[-1]:\n",
    "            return True\n",
    "        else:\n",
    "            return False"
   ]
  },
  {
   "cell_type": "code",
   "execution_count": 68,
   "metadata": {},
   "outputs": [
    {
     "data": {
      "text/plain": [
       "True"
      ]
     },
     "execution_count": 68,
     "metadata": {},
     "output_type": "execute_result"
    }
   ],
   "source": [
    "pallin('YaY')"
   ]
  },
  {
   "cell_type": "code",
   "execution_count": 92,
   "metadata": {
    "collapsed": true
   },
   "outputs": [],
   "source": [
    "# To return a unique list of numbers from a given list\n",
    " \n",
    "def unique_num(l):\n",
    "    x = []\n",
    "    for i in l:\n",
    "        if i not in x:\n",
    "            x.append(i)\n",
    "    return x"
   ]
  },
  {
   "cell_type": "code",
   "execution_count": 93,
   "metadata": {},
   "outputs": [
    {
     "data": {
      "text/plain": [
       "[1, 2, 3, 4, 5]"
      ]
     },
     "execution_count": 93,
     "metadata": {},
     "output_type": "execute_result"
    }
   ],
   "source": [
    "unique_num([1,1,1,2,2,2,3,3,3,4,4,4,5,5,5])"
   ]
  },
  {
   "cell_type": "code",
   "execution_count": 103,
   "metadata": {
    "collapsed": true
   },
   "outputs": [],
   "source": [
    "# To check for a pallindrome\n",
    "def reverse(s):\n",
    "    return s[::-1]\n",
    "\n",
    "def pallin(s):\n",
    "    rev=reverse(s)\n",
    "    if s==rev:\n",
    "        print(\"The string is a pallindrome: \",s)\n",
    "    else:\n",
    "        print(\"The string is not a pallindrome: \",s)"
   ]
  },
  {
   "cell_type": "code",
   "execution_count": 104,
   "metadata": {},
   "outputs": [
    {
     "name": "stdout",
     "output_type": "stream",
     "text": [
      "The string is a pallindrome:  helleh\n"
     ]
    }
   ],
   "source": [
    "pallin('helleh')"
   ]
  }
 ],
 "metadata": {
  "kernelspec": {
   "display_name": "Python 3",
   "language": "python",
   "name": "python3"
  },
  "language_info": {
   "codemirror_mode": {
    "name": "ipython",
    "version": 3
   },
   "file_extension": ".py",
   "mimetype": "text/x-python",
   "name": "python",
   "nbconvert_exporter": "python",
   "pygments_lexer": "ipython3",
   "version": "3.6.1"
  }
 },
 "nbformat": 4,
 "nbformat_minor": 2
}
