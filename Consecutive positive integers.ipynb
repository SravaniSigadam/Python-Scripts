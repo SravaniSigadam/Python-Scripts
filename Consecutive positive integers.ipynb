{
 "cells": [
  {
   "cell_type": "code",
   "execution_count": 1,
   "metadata": {},
   "outputs": [],
   "source": [
    "# Number of sets of consecutive positive integers\n",
    "\n",
    "def consecutiveintegers(n):\n",
    "    num = 0\n",
    "    if n > 0:\n",
    "        for i in range(1,n):\n",
    "            total = 0\n",
    "            while total < n:\n",
    "                total += i\n",
    "                i+=1\n",
    "            if total == n:\n",
    "                num+=1\n",
    "        return num+1\n",
    "    return 0"
   ]
  },
  {
   "cell_type": "code",
   "execution_count": 2,
   "metadata": {},
   "outputs": [
    {
     "data": {
      "text/plain": [
       "3"
      ]
     },
     "execution_count": 2,
     "metadata": {},
     "output_type": "execute_result"
    }
   ],
   "source": [
    "consecutiveintegers(9)"
   ]
  }
 ],
 "metadata": {
  "kernelspec": {
   "display_name": "Python 3",
   "language": "python",
   "name": "python3"
  },
  "language_info": {
   "codemirror_mode": {
    "name": "ipython",
    "version": 3
   },
   "file_extension": ".py",
   "mimetype": "text/x-python",
   "name": "python",
   "nbconvert_exporter": "python",
   "pygments_lexer": "ipython3",
   "version": "3.8.5"
  }
 },
 "nbformat": 4,
 "nbformat_minor": 4
}
