{
 "cells": [
  {
   "cell_type": "code",
   "execution_count": 1,
   "metadata": {},
   "outputs": [],
   "source": [
    "# 26. Remove Duplicate Element ---- Without extra space\n",
    "#Input: nums = [1,1,2] Output: 2, nums = [1,2,_]\n",
    "\n",
    "def removeDuplicate(nums):\n",
    "    n = len(nums)\n",
    "    if(n==0 or n==1):\n",
    "        return n\n",
    "    j=1\n",
    "    for i in range(1,n):\n",
    "        if(nums[i]!=nums[i-1]):\n",
    "            j+=1\n",
    "    return j"
   ]
  },
  {
   "cell_type": "code",
   "execution_count": 2,
   "metadata": {},
   "outputs": [
    {
     "data": {
      "text/plain": [
       "2"
      ]
     },
     "execution_count": 2,
     "metadata": {},
     "output_type": "execute_result"
    }
   ],
   "source": [
    "removeDuplicate([1,2,2])"
   ]
  },
  {
   "cell_type": "code",
   "execution_count": 1,
   "metadata": {},
   "outputs": [],
   "source": [
    "# 26. Remove Duplicate Element -- Extra space\n",
    "#Input: nums = [1,1,2] Output: 2, nums = [1,2,_]\n",
    "\n",
    "def removeDuplicate(nums):\n",
    "    dupList = []\n",
    "    for i in nums:\n",
    "        if i not in dupList:\n",
    "            dupList.append(i)\n",
    "    return len(dupList)"
   ]
  },
  {
   "cell_type": "code",
   "execution_count": 2,
   "metadata": {},
   "outputs": [
    {
     "data": {
      "text/plain": [
       "2"
      ]
     },
     "execution_count": 2,
     "metadata": {},
     "output_type": "execute_result"
    }
   ],
   "source": [
    "removeDuplicate([1,2,2])"
   ]
  }
 ],
 "metadata": {
  "kernelspec": {
   "display_name": "Python 3",
   "language": "python",
   "name": "python3"
  },
  "language_info": {
   "codemirror_mode": {
    "name": "ipython",
    "version": 3
   },
   "file_extension": ".py",
   "mimetype": "text/x-python",
   "name": "python",
   "nbconvert_exporter": "python",
   "pygments_lexer": "ipython3",
   "version": "3.8.5"
  }
 },
 "nbformat": 4,
 "nbformat_minor": 4
}
