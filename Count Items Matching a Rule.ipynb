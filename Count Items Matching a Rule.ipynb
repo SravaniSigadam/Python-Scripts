{
 "cells": [
  {
   "cell_type": "code",
   "execution_count": 1,
   "metadata": {},
   "outputs": [],
   "source": [
    "# 1773. Count Items Matching a Rule\n",
    "# [[\"phone\",\"blue\",\"pixel\"],[\"computer\",\"silver\",\"lenovo\"],[\"phone\",\"gold\",\"iphone\"]], \n",
    "# ruleKey = \"color\", ruleValue = \"silver\"\n",
    "# Output: 1\n",
    "\n",
    "def matchingRule(items,ruleKey,ruleValue):\n",
    "    count = 0\n",
    "    for i in items:\n",
    "        if ruleKey == \"type\":\n",
    "            if i[0] == ruleValue:\n",
    "                count+=1\n",
    "        elif ruleKey == \"color\":\n",
    "            if i[1] == ruleValue:\n",
    "                count+=1\n",
    "        elif ruleKey == \"name\":\n",
    "            if i[2] == ruleValue:\n",
    "                count+=1\n",
    "    return count"
   ]
  },
  {
   "cell_type": "code",
   "execution_count": 2,
   "metadata": {},
   "outputs": [
    {
     "data": {
      "text/plain": [
       "2"
      ]
     },
     "execution_count": 2,
     "metadata": {},
     "output_type": "execute_result"
    }
   ],
   "source": [
    "matchingRule([[\"phone\",\"blue\",\"pixel\"],[\"computer\",\"silver\",\"phone\"],[\"phone\",\"gold\",\"iphone\"]],\"type\",\"phone\")"
   ]
  },
  {
   "cell_type": "code",
   "execution_count": 3,
   "metadata": {},
   "outputs": [],
   "source": [
    "# Using dictionary\n",
    "\n",
    "def matchingRule(items,ruleKey,ruleValue):\n",
    "    ruleKeys = {\"type\":0,\"color\":1,\"name\":2}\n",
    "    count = 0\n",
    "    for i in items:\n",
    "        if i[ruleKeys[ruleKey]] == ruleValue:\n",
    "            count += 1\n",
    "    return count"
   ]
  },
  {
   "cell_type": "code",
   "execution_count": 4,
   "metadata": {},
   "outputs": [
    {
     "data": {
      "text/plain": [
       "2"
      ]
     },
     "execution_count": 4,
     "metadata": {},
     "output_type": "execute_result"
    }
   ],
   "source": [
    "matchingRule([[\"phone\",\"blue\",\"pixel\"],[\"computer\",\"silver\",\"phone\"],[\"phone\",\"gold\",\"iphone\"]],\"type\",\"phone\")"
   ]
  },
  {
   "cell_type": "code",
   "execution_count": 5,
   "metadata": {},
   "outputs": [],
   "source": [
    "# List comprehension\n",
    "\n",
    "def matchingRule(items,ruleKey,ruleValue):\n",
    "    key = 0 if ruleKey == \"type\" else 1 if ruleKey == \"color\" else 2\n",
    "    return len([item for item in items if item[key] == ruleValue])"
   ]
  },
  {
   "cell_type": "code",
   "execution_count": 6,
   "metadata": {},
   "outputs": [
    {
     "data": {
      "text/plain": [
       "1"
      ]
     },
     "execution_count": 6,
     "metadata": {},
     "output_type": "execute_result"
    }
   ],
   "source": [
    "matchingRule([[\"phone\",\"blue\",\"pixel\"],[\"computer\",\"silver\",\"lenovo\"],[\"phone\",\"gold\",\"iphone\"]], \"color\",\"silver\")"
   ]
  }
 ],
 "metadata": {
  "kernelspec": {
   "display_name": "Python 3",
   "language": "python",
   "name": "python3"
  },
  "language_info": {
   "codemirror_mode": {
    "name": "ipython",
    "version": 3
   },
   "file_extension": ".py",
   "mimetype": "text/x-python",
   "name": "python",
   "nbconvert_exporter": "python",
   "pygments_lexer": "ipython3",
   "version": "3.8.5"
  }
 },
 "nbformat": 4,
 "nbformat_minor": 4
}
