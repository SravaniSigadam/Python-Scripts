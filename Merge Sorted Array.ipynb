{
 "cells": [
  {
   "cell_type": "code",
   "execution_count": 3,
   "metadata": {},
   "outputs": [],
   "source": [
    "# 88. Merge Sorted Array\n",
    "\n",
    "#Input: nums1 = [1,2,3,0,0,0], m = 3, nums2 = [2,5,6], n = 3   Output: [1,2,2,3,5,6]\n",
    "\n",
    "def mergeSortedArray(nums1,nums2,m,n):\n",
    "    while n:\n",
    "        if m > 0 and nums1[m-1] >= nums2[n-1]:\n",
    "            nums1[m+n-1] = nums1[m-1]\n",
    "            m-=1\n",
    "        else:\n",
    "            nums1[m+n-1] = nums2[n-1]\n",
    "            n-=1\n",
    "    return nums1"
   ]
  },
  {
   "cell_type": "code",
   "execution_count": 4,
   "metadata": {},
   "outputs": [
    {
     "data": {
      "text/plain": [
       "[1, 2, 2, 3, 5, 6]"
      ]
     },
     "execution_count": 4,
     "metadata": {},
     "output_type": "execute_result"
    }
   ],
   "source": [
    "mergeSortedArray([1,2,3,0,0,0],[2,5,6],3, 3 )"
   ]
  },
  {
   "cell_type": "code",
   "execution_count": 5,
   "metadata": {},
   "outputs": [
    {
     "data": {
      "text/plain": [
       "[1, 2]"
      ]
     },
     "execution_count": 5,
     "metadata": {},
     "output_type": "execute_result"
    }
   ],
   "source": [
    "mergeSortedArray([2,0],[1],1,1)"
   ]
  }
 ],
 "metadata": {
  "kernelspec": {
   "display_name": "Python 3",
   "language": "python",
   "name": "python3"
  },
  "language_info": {
   "codemirror_mode": {
    "name": "ipython",
    "version": 3
   },
   "file_extension": ".py",
   "mimetype": "text/x-python",
   "name": "python",
   "nbconvert_exporter": "python",
   "pygments_lexer": "ipython3",
   "version": "3.8.5"
  }
 },
 "nbformat": 4,
 "nbformat_minor": 4
}
