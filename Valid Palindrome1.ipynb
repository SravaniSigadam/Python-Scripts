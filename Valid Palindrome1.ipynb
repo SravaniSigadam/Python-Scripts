{
 "cells": [
  {
   "cell_type": "code",
   "execution_count": 1,
   "metadata": {},
   "outputs": [],
   "source": [
    "# 125. Valid Palindrome\n",
    "\n",
    "def isPalindrome(s):\n",
    "    #s = \"\".join(s.split())\n",
    "    s = ''.join(c for c in s if c.isalnum()).lower()\n",
    "    left = 0\n",
    "    right = len(s)-1\n",
    "    \n",
    "    while left < right:\n",
    "        left_temp = s[left]\n",
    "        right_temp = s[right]\n",
    "        if left_temp == right_temp:\n",
    "            left +=1\n",
    "            right -=1\n",
    "        else:\n",
    "            return False\n",
    "    return True"
   ]
  },
  {
   "cell_type": "code",
   "execution_count": 2,
   "metadata": {},
   "outputs": [
    {
     "data": {
      "text/plain": [
       "True"
      ]
     },
     "execution_count": 2,
     "metadata": {},
     "output_type": "execute_result"
    }
   ],
   "source": [
    "isPalindrome(\"A man, a plan, a canal: Panama\")"
   ]
  }
 ],
 "metadata": {
  "kernelspec": {
   "display_name": "Python 3",
   "language": "python",
   "name": "python3"
  },
  "language_info": {
   "codemirror_mode": {
    "name": "ipython",
    "version": 3
   },
   "file_extension": ".py",
   "mimetype": "text/x-python",
   "name": "python",
   "nbconvert_exporter": "python",
   "pygments_lexer": "ipython3",
   "version": "3.8.5"
  }
 },
 "nbformat": 4,
 "nbformat_minor": 4
}
