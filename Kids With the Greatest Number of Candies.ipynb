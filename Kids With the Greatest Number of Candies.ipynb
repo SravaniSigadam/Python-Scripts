{
 "cells": [
  {
   "cell_type": "code",
   "execution_count": 1,
   "metadata": {},
   "outputs": [],
   "source": [
    "#1431. Kids With the Greatest Number of Candies\n",
    "\n",
    "def kidsCandies(candies,extraCandies):\n",
    "    maxCand = max(candies)\n",
    "    newlist = []\n",
    "    for i in candies:\n",
    "        if i+extraCandies < maxCand:\n",
    "            newlist.append(False)\n",
    "        else:\n",
    "            newlist.append(True)\n",
    "    return newlist"
   ]
  },
  {
   "cell_type": "code",
   "execution_count": 2,
   "metadata": {},
   "outputs": [
    {
     "data": {
      "text/plain": [
       "[True, False, True]"
      ]
     },
     "execution_count": 2,
     "metadata": {},
     "output_type": "execute_result"
    }
   ],
   "source": [
    "kidsCandies([12,1,12], 10)"
   ]
  },
  {
   "cell_type": "code",
   "execution_count": 3,
   "metadata": {},
   "outputs": [],
   "source": [
    "def kidsCandies(candies,extraCandies):\n",
    "    maxCand = max(candies)\n",
    "    newlist = []\n",
    "    for i in candies:\n",
    "        newlist.append(i+extraCandies >= maxCand)\n",
    "    return newlist"
   ]
  },
  {
   "cell_type": "code",
   "execution_count": 4,
   "metadata": {},
   "outputs": [
    {
     "data": {
      "text/plain": [
       "[True, False, True]"
      ]
     },
     "execution_count": 4,
     "metadata": {},
     "output_type": "execute_result"
    }
   ],
   "source": [
    "kidsCandies([12,1,12], 10)"
   ]
  }
 ],
 "metadata": {
  "kernelspec": {
   "display_name": "Python 3",
   "language": "python",
   "name": "python3"
  },
  "language_info": {
   "codemirror_mode": {
    "name": "ipython",
    "version": 3
   },
   "file_extension": ".py",
   "mimetype": "text/x-python",
   "name": "python",
   "nbconvert_exporter": "python",
   "pygments_lexer": "ipython3",
   "version": "3.8.5"
  }
 },
 "nbformat": 4,
 "nbformat_minor": 4
}
