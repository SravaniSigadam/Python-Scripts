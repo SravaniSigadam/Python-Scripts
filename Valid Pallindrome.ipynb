{
 "cells": [
  {
   "cell_type": "code",
   "execution_count": 1,
   "metadata": {},
   "outputs": [],
   "source": [
    "def isPalindrome(x):\n",
    "        \n",
    "        \n",
    "    if x < 0:\n",
    "        return False\n",
    "    l = []\n",
    "    for num in str(x)[::-1]:\n",
    "        l.append(num)\n",
    "            \n",
    "    if int(''.join(l)) != x:\n",
    "        return False\n",
    "    return True"
   ]
  },
  {
   "cell_type": "code",
   "execution_count": 2,
   "metadata": {},
   "outputs": [
    {
     "data": {
      "text/plain": [
       "True"
      ]
     },
     "execution_count": 2,
     "metadata": {},
     "output_type": "execute_result"
    }
   ],
   "source": [
    "isPalindrome(1331)"
   ]
  },
  {
   "cell_type": "code",
   "execution_count": 3,
   "metadata": {},
   "outputs": [
    {
     "data": {
      "text/plain": [
       "False"
      ]
     },
     "execution_count": 3,
     "metadata": {},
     "output_type": "execute_result"
    }
   ],
   "source": [
    "isPalindrome(133)"
   ]
  },
  {
   "cell_type": "code",
   "execution_count": 4,
   "metadata": {},
   "outputs": [
    {
     "name": "stdout",
     "output_type": "stream",
     "text": [
      "True\n"
     ]
    }
   ],
   "source": [
    "# 2 pointer solution\n",
    "\n",
    "x= 18881\n",
    "\n",
    "if x<0:\n",
    "    print('False')\n",
    "\n",
    "list_input =[]\n",
    "while x>0:\n",
    "    x, r = divmod(x, 10)\n",
    "    list_input.append(r)\n",
    "\n",
    "start = 0\n",
    "end = len(list_input)-1\n",
    "\n",
    "while start <= end:\n",
    "    if list_input[start] != list_input[end]:\n",
    "        print('False')\n",
    "        break\n",
    "    start += 1\n",
    "    end -=1\n",
    "print('True')"
   ]
  },
  {
   "cell_type": "code",
   "execution_count": null,
   "metadata": {},
   "outputs": [],
   "source": []
  }
 ],
 "metadata": {
  "kernelspec": {
   "display_name": "Python 3",
   "language": "python",
   "name": "python3"
  },
  "language_info": {
   "codemirror_mode": {
    "name": "ipython",
    "version": 3
   },
   "file_extension": ".py",
   "mimetype": "text/x-python",
   "name": "python",
   "nbconvert_exporter": "python",
   "pygments_lexer": "ipython3",
   "version": "3.8.5"
  }
 },
 "nbformat": 4,
 "nbformat_minor": 4
}
