{
 "cells": [
  {
   "cell_type": "code",
   "execution_count": 1,
   "metadata": {},
   "outputs": [],
   "source": [
    "# 1046. Last Stone Weight\n",
    "\n",
    "def lastStone(nums):\n",
    "    while len(nums)>1:\n",
    "        x = max(nums)\n",
    "        #print('this is x',x)\n",
    "        nums.remove(x)\n",
    "        #print('nums after removing x',nums)\n",
    "        y = max(nums)\n",
    "        #print('this is y',y)\n",
    "        nums.remove(y)\n",
    "        #print('nums after removing y',nums)\n",
    "        if y <= x:\n",
    "            #print('to append',x-y)\n",
    "            nums.append(x-y)\n",
    "            #print('nums',nums)\n",
    "    return nums[0]"
   ]
  },
  {
   "cell_type": "code",
   "execution_count": 2,
   "metadata": {},
   "outputs": [
    {
     "data": {
      "text/plain": [
       "1"
      ]
     },
     "execution_count": 2,
     "metadata": {},
     "output_type": "execute_result"
    }
   ],
   "source": [
    "lastStone([2,7,4,1,8,1])"
   ]
  },
  {
   "cell_type": "code",
   "execution_count": 4,
   "metadata": {},
   "outputs": [],
   "source": [
    "def lastStoneWeight(stones):\n",
    "    while len(stones) != 1:\n",
    "        stones.sort()\n",
    "        if len(stones)>2:\n",
    "            if stones[-1]==stones[-2]:\n",
    "                del stones[-1]\n",
    "                del stones[-1]\n",
    "            elif stones[-1]>stones[-2]:\n",
    "                stones[-1]-=stones[-2]\n",
    "                del stones[-2]\n",
    "        else:\n",
    "            return stones[-1]-stones[-2]        \n",
    "    return stones[0]"
   ]
  },
  {
   "cell_type": "code",
   "execution_count": 5,
   "metadata": {},
   "outputs": [
    {
     "data": {
      "text/plain": [
       "1"
      ]
     },
     "execution_count": 5,
     "metadata": {},
     "output_type": "execute_result"
    }
   ],
   "source": [
    "lastStone([2,7,4,1,8,1])"
   ]
  }
 ],
 "metadata": {
  "kernelspec": {
   "display_name": "Python 3",
   "language": "python",
   "name": "python3"
  },
  "language_info": {
   "codemirror_mode": {
    "name": "ipython",
    "version": 3
   },
   "file_extension": ".py",
   "mimetype": "text/x-python",
   "name": "python",
   "nbconvert_exporter": "python",
   "pygments_lexer": "ipython3",
   "version": "3.8.5"
  }
 },
 "nbformat": 4,
 "nbformat_minor": 4
}
